{
 "cells": [
  {
   "cell_type": "markdown",
   "id": "c0fbbf4e",
   "metadata": {},
   "source": [
    "31218_정윤호_0417_4"
   ]
  },
  {
   "cell_type": "markdown",
   "id": "8efcb61c",
   "metadata": {},
   "source": [
    "### 알고리즘 algorithm\n",
    "> 문제를 해결하는 방법 순서<br>\n",
    "  어떠한 문제를 해결하기 위해 정해 놓은 일련의절차"
   ]
  },
  {
   "cell_type": "code",
   "execution_count": 18,
   "id": "25f9192f",
   "metadata": {},
   "outputs": [
    {
     "name": "stdout",
     "output_type": "stream",
     "text": [
      "세 정수의 최댓값을 구합니다.\n",
      "정수 a의 값을 입력하세요.:4\n",
      "정수 b의 값을 입력하세요.:4\n",
      "정수 c의 값을 입력하세요.:5\n",
      "최대값은 5입니다.\n"
     ]
    }
   ],
   "source": [
    "#문제1 세 정수의 최댓값 구하기\n",
    "#입력 3개\n",
    "# 알고리즘의 순차구조 : 순서대호 진행\n",
    "#알고리즘의 선택구조 ~~~~중에 하나\n",
    "print('세 정수의 최댓값을 구합니다.')\n",
    "a = int(input('정수 a의 값을 입력하세요.:'))\n",
    "b = int(input('정수 b의 값을 입력하세요.:'))\n",
    "c = int(input('정수 c의 값을 입력하세요.:'))\n",
    "#최댓값 구하는 알고리즘\n",
    "max = a\n",
    "if b > max:\n",
    "    max = b\n",
    "if c > max:\n",
    "    max = c\n",
    "print(f'최대값은 {max}입니다.')"
   ]
  },
  {
   "cell_type": "code",
   "execution_count": 10,
   "id": "afdb6eb2",
   "metadata": {},
   "outputs": [
    {
     "name": "stdout",
     "output_type": "stream",
     "text": [
      "정수를 입력하세요.:-5\n",
      "-5은 음수입니다.\n"
     ]
    }
   ],
   "source": [
    "#문제2 입력받은 정수의 부호를 출력하기(양수, 음수)\n",
    "\n",
    "n = int(input('정수를 입력하세요.:'))\n",
    "\n",
    "if n > 0:\n",
    "    print(f'{n}은 양수입니다.')\n",
    "elif n < 0:\n",
    "    print(f'{n}은 음수입니다.')\n",
    "else :\n",
    "    print(f'{n}은 0입니다.')"
   ]
  },
  {
   "cell_type": "code",
   "execution_count": 17,
   "id": "852edb1c",
   "metadata": {},
   "outputs": [
    {
     "name": "stdout",
     "output_type": "stream",
     "text": [
      "정수를 입력하세요.: 4\n"
     ]
    }
   ],
   "source": [
    "#문제3 3개를 입력받아\n",
    "#1 - A, 2 - B, 3 - C 출력하는 프로그램 작성\n",
    "n = int(input('정수를 입력하세요.: '))\n",
    "\n",
    "if n ==1:\n",
    "    print('A')\n",
    "elif n ==2:\n",
    "    print('B')\n",
    "elif n == 3:\n",
    "    print('C')"
   ]
  },
  {
   "cell_type": "code",
   "execution_count": null,
   "id": "02761dc0",
   "metadata": {},
   "outputs": [],
   "source": []
  },
  {
   "cell_type": "code",
   "execution_count": null,
   "id": "fd777b05",
   "metadata": {},
   "outputs": [],
   "source": []
  }
 ],
 "metadata": {
  "kernelspec": {
   "display_name": "Python 3 (ipykernel)",
   "language": "python",
   "name": "python3"
  },
  "language_info": {
   "codemirror_mode": {
    "name": "ipython",
    "version": 3
   },
   "file_extension": ".py",
   "mimetype": "text/x-python",
   "name": "python",
   "nbconvert_exporter": "python",
   "pygments_lexer": "ipython3",
   "version": "3.9.7"
  }
 },
 "nbformat": 4,
 "nbformat_minor": 5
}
